{
 "cells": [
  {
   "cell_type": "code",
   "execution_count": 2,
   "metadata": {},
   "outputs": [],
   "source": [
    "#Description: Predict the future price of the S&P500"
   ]
  },
  {
   "cell_type": "code",
   "execution_count": 4,
   "metadata": {},
   "outputs": [],
   "source": [
    "#import the libraries\n",
    "\n",
    "import pandas as pd\n",
    "import numpy as np\n",
    "import matplotlib.pyplot as plt\n",
    "from sklearn.linear_model import LinearRegression\n",
    "from sklearn.metrics import r2_score\n",
    "plt.style.use('fivethirtyeight')"
   ]
  },
  {
   "cell_type": "code",
   "execution_count": 17,
   "metadata": {},
   "outputs": [],
   "source": [
    "#Load the data\n",
    "\n",
    "import yfinance as yf\n",
    "\n",
    "snp = yf.Ticker('SNP')\n",
    "\n",
    "hist = snp.history(start= '2020-01-01', end='2022-01-31')\n",
    "hist1 = hist.copy()"
   ]
  },
  {
   "cell_type": "code",
   "execution_count": 20,
   "metadata": {},
   "outputs": [
    {
     "data": {
      "text/html": [
       "<div>\n",
       "<style scoped>\n",
       "    .dataframe tbody tr th:only-of-type {\n",
       "        vertical-align: middle;\n",
       "    }\n",
       "\n",
       "    .dataframe tbody tr th {\n",
       "        vertical-align: top;\n",
       "    }\n",
       "\n",
       "    .dataframe thead th {\n",
       "        text-align: right;\n",
       "    }\n",
       "</style>\n",
       "<table border=\"1\" class=\"dataframe\">\n",
       "  <thead>\n",
       "    <tr style=\"text-align: right;\">\n",
       "      <th></th>\n",
       "      <th>Open</th>\n",
       "      <th>High</th>\n",
       "      <th>Low</th>\n",
       "      <th>Close</th>\n",
       "      <th>Volume</th>\n",
       "      <th>Dividends</th>\n",
       "      <th>Stock Splits</th>\n",
       "    </tr>\n",
       "    <tr>\n",
       "      <th>Date</th>\n",
       "      <th></th>\n",
       "      <th></th>\n",
       "      <th></th>\n",
       "      <th></th>\n",
       "      <th></th>\n",
       "      <th></th>\n",
       "      <th></th>\n",
       "    </tr>\n",
       "  </thead>\n",
       "  <tbody>\n",
       "    <tr>\n",
       "      <th>2019-12-31</th>\n",
       "      <td>50.376808</td>\n",
       "      <td>50.806948</td>\n",
       "      <td>50.351506</td>\n",
       "      <td>50.731041</td>\n",
       "      <td>167400</td>\n",
       "      <td>0.0</td>\n",
       "      <td>0</td>\n",
       "    </tr>\n",
       "    <tr>\n",
       "      <th>2020-01-02</th>\n",
       "      <td>51.043097</td>\n",
       "      <td>51.633484</td>\n",
       "      <td>50.806944</td>\n",
       "      <td>51.633484</td>\n",
       "      <td>201100</td>\n",
       "      <td>0.0</td>\n",
       "      <td>0</td>\n",
       "    </tr>\n",
       "    <tr>\n",
       "      <th>2020-01-03</th>\n",
       "      <td>51.759993</td>\n",
       "      <td>52.021450</td>\n",
       "      <td>51.582877</td>\n",
       "      <td>51.886505</td>\n",
       "      <td>183000</td>\n",
       "      <td>0.0</td>\n",
       "      <td>0</td>\n",
       "    </tr>\n",
       "    <tr>\n",
       "      <th>2020-01-06</th>\n",
       "      <td>52.164829</td>\n",
       "      <td>52.476893</td>\n",
       "      <td>52.063621</td>\n",
       "      <td>52.249172</td>\n",
       "      <td>193600</td>\n",
       "      <td>0.0</td>\n",
       "      <td>0</td>\n",
       "    </tr>\n",
       "    <tr>\n",
       "      <th>2020-01-07</th>\n",
       "      <td>52.038322</td>\n",
       "      <td>52.122662</td>\n",
       "      <td>51.684089</td>\n",
       "      <td>52.004585</td>\n",
       "      <td>194000</td>\n",
       "      <td>0.0</td>\n",
       "      <td>0</td>\n",
       "    </tr>\n",
       "    <tr>\n",
       "      <th>...</th>\n",
       "      <td>...</td>\n",
       "      <td>...</td>\n",
       "      <td>...</td>\n",
       "      <td>...</td>\n",
       "      <td>...</td>\n",
       "      <td>...</td>\n",
       "      <td>...</td>\n",
       "    </tr>\n",
       "    <tr>\n",
       "      <th>2022-01-24</th>\n",
       "      <td>51.389999</td>\n",
       "      <td>51.910000</td>\n",
       "      <td>50.900002</td>\n",
       "      <td>51.830002</td>\n",
       "      <td>200800</td>\n",
       "      <td>0.0</td>\n",
       "      <td>0</td>\n",
       "    </tr>\n",
       "    <tr>\n",
       "      <th>2022-01-25</th>\n",
       "      <td>51.790001</td>\n",
       "      <td>52.810001</td>\n",
       "      <td>51.040001</td>\n",
       "      <td>52.720001</td>\n",
       "      <td>160200</td>\n",
       "      <td>0.0</td>\n",
       "      <td>0</td>\n",
       "    </tr>\n",
       "    <tr>\n",
       "      <th>2022-01-26</th>\n",
       "      <td>52.599998</td>\n",
       "      <td>52.849998</td>\n",
       "      <td>51.759998</td>\n",
       "      <td>51.990002</td>\n",
       "      <td>168200</td>\n",
       "      <td>0.0</td>\n",
       "      <td>0</td>\n",
       "    </tr>\n",
       "    <tr>\n",
       "      <th>2022-01-27</th>\n",
       "      <td>52.279999</td>\n",
       "      <td>52.660000</td>\n",
       "      <td>51.520000</td>\n",
       "      <td>52.090000</td>\n",
       "      <td>111900</td>\n",
       "      <td>0.0</td>\n",
       "      <td>0</td>\n",
       "    </tr>\n",
       "    <tr>\n",
       "      <th>2022-01-28</th>\n",
       "      <td>51.849998</td>\n",
       "      <td>52.230000</td>\n",
       "      <td>51.230000</td>\n",
       "      <td>51.790001</td>\n",
       "      <td>133200</td>\n",
       "      <td>0.0</td>\n",
       "      <td>0</td>\n",
       "    </tr>\n",
       "  </tbody>\n",
       "</table>\n",
       "<p>525 rows × 7 columns</p>\n",
       "</div>"
      ],
      "text/plain": [
       "                 Open       High        Low      Close  Volume  Dividends  \\\n",
       "Date                                                                        \n",
       "2019-12-31  50.376808  50.806948  50.351506  50.731041  167400        0.0   \n",
       "2020-01-02  51.043097  51.633484  50.806944  51.633484  201100        0.0   \n",
       "2020-01-03  51.759993  52.021450  51.582877  51.886505  183000        0.0   \n",
       "2020-01-06  52.164829  52.476893  52.063621  52.249172  193600        0.0   \n",
       "2020-01-07  52.038322  52.122662  51.684089  52.004585  194000        0.0   \n",
       "...               ...        ...        ...        ...     ...        ...   \n",
       "2022-01-24  51.389999  51.910000  50.900002  51.830002  200800        0.0   \n",
       "2022-01-25  51.790001  52.810001  51.040001  52.720001  160200        0.0   \n",
       "2022-01-26  52.599998  52.849998  51.759998  51.990002  168200        0.0   \n",
       "2022-01-27  52.279999  52.660000  51.520000  52.090000  111900        0.0   \n",
       "2022-01-28  51.849998  52.230000  51.230000  51.790001  133200        0.0   \n",
       "\n",
       "            Stock Splits  \n",
       "Date                      \n",
       "2019-12-31             0  \n",
       "2020-01-02             0  \n",
       "2020-01-03             0  \n",
       "2020-01-06             0  \n",
       "2020-01-07             0  \n",
       "...                  ...  \n",
       "2022-01-24             0  \n",
       "2022-01-25             0  \n",
       "2022-01-26             0  \n",
       "2022-01-27             0  \n",
       "2022-01-28             0  \n",
       "\n",
       "[525 rows x 7 columns]"
      ]
     },
     "execution_count": 20,
     "metadata": {},
     "output_type": "execute_result"
    }
   ],
   "source": [
    "#Store the data\n",
    "df = pd.DataFrame(hist1)\n",
    "\n",
    "#Set the date as the index\n",
    "#df = df.set_index(pd.DatetimeIndex(df['Date'].values))\n",
    "\n",
    "#Show the data\n",
    "df"
   ]
  },
  {
   "cell_type": "code",
   "execution_count": 21,
   "metadata": {},
   "outputs": [
    {
     "name": "stdout",
     "output_type": "stream",
     "text": [
      "Intercept: 40.095235617915804\n",
      "Slope: [0.01732184]\n"
     ]
    }
   ],
   "source": [
    "#Plot the linear regression line and the close price\n",
    "\n",
    "df3 = df.copy()\n",
    "\n",
    "#Create a new column called 'Numbers' that ranges from 0 to the lenght of the data set\n",
    "df3['Numbers'] = list(range(0, len(df3)))\n",
    "\n",
    "#Store the 'Numbers' column into a variable called 'X' as an array\n",
    "X= np.array(df3[['Numbers']])\n",
    "\n",
    "#Store the close price as an array ina variable called 'y'\n",
    "y =  df3['Close'].values\n",
    "\n",
    "#Create and train the model\n",
    "lin_model = LinearRegression().fit(X,y)\n",
    "print('Intercept:', lin_model.intercept_)\n",
    "print('Slope:', lin_model.coef_)"
   ]
  },
  {
   "cell_type": "code",
   "execution_count": 22,
   "metadata": {},
   "outputs": [
    {
     "data": {
      "text/plain": [
       "Text(0.5, 1.0, 'Close Price History')"
      ]
     },
     "execution_count": 22,
     "metadata": {},
     "output_type": "execute_result"
    },
    {
     "data": {
      "image/png": "[encoded data removed]",
      "text/plain": [
       "<Figure size 432x288 with 1 Axes>"
      ]
     },
     "metadata": {},
     "output_type": "display_data"
    }
   ],
   "source": [
    "#Prepare data for visualisation\n",
    "#Get predicted price from the model and store them into variable called 'y_pred'\n",
    "y_pred = lin_model.coef_ * X + lin_model.intercept_ #y = mx + b\n",
    "\n",
    "#Store the predicted values in a new column called 'Pred'\n",
    "df3['Pred'] = y_pred\n",
    "\n",
    "#Plot the data\n",
    "df3['Pred'].plot()\n",
    "df3['Close'].plot()\n",
    "plt.title('Close Price History')\n"
   ]
  },
  {
   "cell_type": "code",
   "execution_count": 24,
   "metadata": {},
   "outputs": [
    {
     "data": {
      "text/plain": [
       "0.3067256969409633"
      ]
     },
     "execution_count": 24,
     "metadata": {},
     "output_type": "execute_result"
    }
   ],
   "source": [
    "#How good is the model?\n",
    "r2_score(df3['Close'], df3['Pred'])\n"
   ]
  },
  {
   "cell_type": "code",
   "execution_count": 25,
   "metadata": {},
   "outputs": [
    {
     "data": {
      "text/plain": [
       "array([50.18920179])"
      ]
     },
     "execution_count": 25,
     "metadata": {},
     "output_type": "execute_result"
    }
   ],
   "source": [
    "#Show the possible price for the next day based on the model\n",
    "lin_model.coef_ * len(df3) + 1 + lin_model.intercept_"
   ]
  }
 ],
 "metadata": {
  "kernelspec": {
   "display_name": "Python 3",
   "language": "python",
   "name": "python3"
  },
  "language_info": {
   "codemirror_mode": {
    "name": "ipython",
    "version": 3
   },
   "file_extension": ".py",
   "mimetype": "text/x-python",
   "name": "python",
   "nbconvert_exporter": "python",
   "pygments_lexer": "ipython3",
   "version": "3.8.5"
  }
 },
 "nbformat": 4,
 "nbformat_minor": 4
}
